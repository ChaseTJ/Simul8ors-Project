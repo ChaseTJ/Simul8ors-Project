{
 "cells": [
  {
   "cell_type": "code",
   "execution_count": 5,
   "id": "d2aaf488-fe16-4421-8013-7e1254bbda61",
   "metadata": {},
   "outputs": [],
   "source": [
    "import tkinter as tk"
   ]
  },
  {
   "cell_type": "code",
   "execution_count": 19,
   "id": "6a50b4a4-f586-46f2-aba7-f24f1afe81ad",
   "metadata": {},
   "outputs": [],
   "source": [
    "class CircleApp:\n",
    "    def __init__(self, root):\n",
    "        self.root = root\n",
    "        self.root.title(\"Circle Drawer\")\n",
    "\n",
    "        # Set up canvas\n",
    "        self.canvas = tk.Canvas(root, width=600, height=600, bg=\"white\")\n",
    "        self.canvas.pack()\n",
    "\n",
    "        # Define the bordered box dimensions\n",
    "        self.box_x0, self.box_y0 = 100, 100\n",
    "        self.box_x1, self.box_y1 = 500, 500\n",
    "        self.canvas.create_rectangle(self.box_x0, self.box_y0, self.box_x1, self.box_y1, outline=\"black\", width=2)\n",
    "\n",
    "        # Draw X and Y axis labels\n",
    "        self.draw_axes()\n",
    "\n",
    "        # Bind mouse click events to the canvas\n",
    "        self.canvas.bind(\"<Button-1>\", self.handle_click)\n",
    "\n",
    "        # Dictionary to keep track of circles\n",
    "        self.circles = {}\n",
    "\n",
    "    def draw_axes(self):\n",
    "        # X axis labels (0 to 100 range)\n",
    "        for x in range(0, 101, 10):\n",
    "            x_canvas = self.box_x0 + (x / 100) * (self.box_x1 - self.box_x0)\n",
    "            self.canvas.create_text(x_canvas, self.box_y1 + 20, text=str(x), fill=\"black\")\n",
    "\n",
    "        # Y axis labels (0 to 100 range, inverted for bottom-left origin)\n",
    "        for y in range(0, 101, 10):\n",
    "            y_canvas = self.box_y1 - (y / 100) * (self.box_y1 - self.box_y0)\n",
    "            self.canvas.create_text(self.box_x0 - 20, y_canvas, text=str(y), fill=\"black\")\n",
    "\n",
    "    def handle_click(self, event):\n",
    "        # Check if the click is within the box\n",
    "        if not (self.box_x0 <= event.x <= self.box_x1 and self.box_y0 <= event.y <= self.box_y1):\n",
    "            return\n",
    "\n",
    "        # Check if the click is on an existing circle\n",
    "        clicked_circle = None\n",
    "        for circle_id, coords in self.circles.items():\n",
    "            x0, y0, x1, y1 = coords\n",
    "            if x0 <= event.x <= x1 and y0 <= event.y <= y1:\n",
    "                clicked_circle = circle_id\n",
    "                break\n",
    "\n",
    "        if clicked_circle:\n",
    "            # Remove the clicked circle\n",
    "            self.canvas.delete(clicked_circle)\n",
    "            del self.circles[clicked_circle]\n",
    "        else:\n",
    "            # Add a new red circle at the click position\n",
    "            radius = 7  # Smaller circle\n",
    "            x0 = event.x - radius\n",
    "            y0 = event.y - radius\n",
    "            x1 = event.x + radius\n",
    "            y1 = event.y + radius\n",
    "            circle_id = self.canvas.create_oval(x0, y0, x1, y1, fill=\"red\")\n",
    "            self.circles[circle_id] = (x0, y0, x1, y1)"
   ]
  },
  {
   "cell_type": "code",
   "execution_count": 21,
   "id": "5fa309c5-d4e8-4f9b-88ba-ebb237b89c41",
   "metadata": {},
   "outputs": [],
   "source": [
    "root = tk.Tk()\n",
    "app = CircleApp(root)\n",
    "root.mainloop()"
   ]
  },
  {
   "cell_type": "code",
   "execution_count": null,
   "id": "041ee0ba-457d-4695-8d23-cce4c5e58e4d",
   "metadata": {},
   "outputs": [],
   "source": []
  }
 ],
 "metadata": {
  "kernelspec": {
   "display_name": "Python 3 (ipykernel)",
   "language": "python",
   "name": "python3"
  },
  "language_info": {
   "codemirror_mode": {
    "name": "ipython",
    "version": 3
   },
   "file_extension": ".py",
   "mimetype": "text/x-python",
   "name": "python",
   "nbconvert_exporter": "python",
   "pygments_lexer": "ipython3",
   "version": "3.11.8"
  }
 },
 "nbformat": 4,
 "nbformat_minor": 5
}
